{
 "cells": [
  {
   "cell_type": "code",
   "execution_count": 4,
   "id": "2830898a",
   "metadata": {},
   "outputs": [],
   "source": [
    "from Spotify_Client import*"
   ]
  },
  {
   "cell_type": "code",
   "execution_count": 2,
   "id": "ada28e72",
   "metadata": {},
   "outputs": [],
   "source": [
    "#Client Info\n",
    "client_id = '9d492fa06b314afdb0452c0ad985d1b0'\n",
    "client_secret = '4a9a4b03cb1d4330a0187ce58e8316e1'\n",
    "baseURL = 'https://api.spotify.com/v1'"
   ]
  },
  {
   "cell_type": "code",
   "execution_count": 5,
   "id": "27c5b5ac",
   "metadata": {},
   "outputs": [],
   "source": [
    "spotify_client = SpotifyAPI(client_id,client_secret)"
   ]
  }
 ],
 "metadata": {
  "kernelspec": {
   "display_name": "Python 3 (ipykernel)",
   "language": "python",
   "name": "python3"
  },
  "language_info": {
   "codemirror_mode": {
    "name": "ipython",
    "version": 3
   },
   "file_extension": ".py",
   "mimetype": "text/x-python",
   "name": "python",
   "nbconvert_exporter": "python",
   "pygments_lexer": "ipython3",
   "version": "3.11.1"
  }
 },
 "nbformat": 4,
 "nbformat_minor": 5
}
