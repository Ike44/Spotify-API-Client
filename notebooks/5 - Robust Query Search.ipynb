{
 "cells": [
  {
   "cell_type": "code",
   "execution_count": null,
   "id": "98b0aa84",
   "metadata": {},
   "outputs": [],
   "source": [
    "#!pip install requests"
   ]
  },
  {
   "cell_type": "code",
   "execution_count": null,
   "id": "c53568b1",
   "metadata": {},
   "outputs": [],
   "source": [
    "import base64\n",
    "import requests as rq\n",
    "import datetime\n",
    "from urllib.parse import urlencode\n",
    "import os\n",
    "from dotenv import load_dotenv"
   ]
  },
  {
   "cell_type": "code",
   "execution_count": null,
   "id": "1e5fb770",
   "metadata": {},
   "outputs": [],
   "source": [
    "load_dotenv(\"./config.env\")\n",
    "client_secret = os.getenv(\"CLIENT_SECRET\")\n",
    "client_id = os.getenv(\"CLIENT_ID\")\n",
    "baseURL = 'https://api.spotify.com/v1'"
   ]
  },
  {
   "cell_type": "code",
   "execution_count": null,
   "id": "1b78fb7a",
   "metadata": {},
   "outputs": [],
   "source": [
    "class SpotifyAPI(object):\n",
    "    access_token = None\n",
    "    access_token_expires = datetime.datetime.now()\n",
    "    access_token_did_expire = True\n",
    "    client_id = None\n",
    "    client_secret = None\n",
    "    token_url = \"https://accounts.spotify.com/api/token\"\n",
    "    \n",
    "    def __init__(self, client_id, client_secret, *args, **kwargs):\n",
    "        super().__init__(*args, **kwargs)\n",
    "        self.client_id = client_id\n",
    "        self.client_secret = client_secret\n",
    "    \n",
    "    def get_client_credentials(self):\n",
    "        \"\"\"\n",
    "        Returns a base64 string\n",
    "        \"\"\"\n",
    "        client_id = self.client_id\n",
    "        client_secret = self.client_secret\n",
    "        if client_secret == None or client_id == None:\n",
    "            raise Exception(\"You must set client_id and client_secret.\")\n",
    "        client_creds = f\"{client_id}:{client_secret}\"\n",
    "        client_creds_b64 = base64.b64encode(client_creds.encode())\n",
    "        return client_creds_b64.decode()\n",
    "    \n",
    "    def get_token_headers(self):\n",
    "        \n",
    "        client_creds_b64 = self.get_client_credentials()\n",
    "        return {\n",
    "            \"Authorization\": f\"Basic {client_creds_b64}\"\n",
    "        }\n",
    "    \n",
    "    def get_token_data(self):\n",
    "        return {\n",
    "            'grant_type' : \"client_credentials\"\n",
    "        }\n",
    "    \n",
    "    def perform_auth(self):\n",
    "        token_url = self.token_url\n",
    "        token_data = self.get_token_data()\n",
    "        token_headers = self.get_token_headers()\n",
    "        \n",
    "        r = rq.post(token_url, data=token_data, headers=token_headers)\n",
    "        #print(r.json())\n",
    "        if r.status_code not in range(200, 299):\n",
    "            raise Exception(\"Could not authenticate client.\")\n",
    "            #return False\n",
    "        data = r.json()\n",
    "        now = datetime.datetime.now()\n",
    "        access_token = data['access_token']\n",
    "        expires_in = data['expires_in']\n",
    "        expires = now + datetime.timedelta(seconds=expires_in)\n",
    "        self.access_token = access_token\n",
    "        self.access_token_expires = expires\n",
    "        self.access_token_did_expire = expires < now\n",
    "        return True\n",
    "    \n",
    "    def get_access_token(self):\n",
    "#         auth_done = self.perform_auth()\n",
    "#         if not auth_done:\n",
    "#             raise Exception(\"Authentication failed\")\n",
    "        token = self.access_token\n",
    "        expires = self.access_token_expires\n",
    "        now = datetime.datetime.now()\n",
    "        if expires < now:\n",
    "            self.perform_auth()\n",
    "            return self.get_access_token()\n",
    "        elif token == None:\n",
    "            self.perform_auth()\n",
    "            return self.get_access_token()\n",
    "        return token\n",
    "    \n",
    "    def get_resource_header(self):\n",
    "        access_token = self.get_access_token()\n",
    "        headers = {\n",
    "            \"Authorization\": f\"Bearer {access_token}\"\n",
    "        }\n",
    "        return headers\n",
    "        \n",
    "    def get_resource(self, lookup_id, resource_type='albums',version='v1'):\n",
    "        endpoint = f\"https://api.spotify.com/{version}/{resource_type}/{lookup_id}\"\n",
    "        headers = self.get_resource_header()\n",
    "        r = rq.get(endpoint, headers=headers)\n",
    "        if r.status_code not in range(200,299):\n",
    "            return {}\n",
    "        return r.json()\n",
    "        \n",
    "    def get_album(self, _id):\n",
    "#         baseURL = 'https://api.spotify.com/v1'\n",
    "#         endpoint = f\"{baseURL}/albums/{_id}\"\n",
    "#         pass\n",
    "        return self.get_resource(_id, resource_type = 'albums')\n",
    "    \n",
    "    def get_artist(self, _id):\n",
    "        return self.get_resource(_id, resource_type = 'artists')\n",
    "    \n",
    "    def base_search(self, query_params):\n",
    "        access_token = self.get_access_token()\n",
    "        headers = self.get_resource_header()\n",
    "        endpoint = \"https://api.spotify.com/v1/search\"\n",
    "        lookup_url = f\"{endpoint}?{query_params}\"\n",
    "        r = rq.get(lookup_url, headers = headers)\n",
    "        #print(r.status_code)\n",
    "        if r.status_code not in range(200, 299):\n",
    "            return {}\n",
    "        return r.json()\n",
    "    \n",
    "    def search(self, query=None, operator=None, operator_query=None, search_type='artist'):\n",
    "        if query == None:\n",
    "            raise Exception(\"A query is required\")\n",
    "        if isinstance (query, dict):\n",
    "            query = \" \".join([f\"{k}:{v}\" for k,v in query.items()])\n",
    "        if operator != None and operator_query != None:\n",
    "            if operator.lower() == \"or\" or operator.lower() == \"not\":\n",
    "                operator = operator.upper()\n",
    "                if isinstance(operator_query, str):\n",
    "                    query = f\"{query} {operator} {operator_query}\"\n",
    "        query_params = urlencode({\"q\": query, \"type\" : search_type.lower()})\n",
    "        print(query_params)\n",
    "        # When doing the queries with operators match the query to the operator query in terms of type(artists, albums,etc.)\n",
    "        return self.base_search(query_params)\n",
    "        "
   ]
  },
  {
   "cell_type": "code",
   "execution_count": null,
   "id": "f9b9e857",
   "metadata": {},
   "outputs": [],
   "source": [
    "#base64.b64decode(client_creds_b64) #decoding\n",
    "#endpoint = \"https://api.spotify.com/v1/search\""
   ]
  },
  {
   "cell_type": "code",
   "execution_count": null,
   "id": "627fa6ab",
   "metadata": {},
   "outputs": [],
   "source": [
    "spotify_client = SpotifyAPI(client_id,client_secret)\n",
    "#spotify_client.search(\"Rich Flex\", search_type='track')\n",
    "#spotify_client.get_artist('jhksdjbs')\n",
    "spotify_client.search({\"track\": \"A lannister always pays his debts\", \"artists\": \"Ramin\"}, search_type=\"artist\")"
   ]
  },
  {
   "cell_type": "code",
   "execution_count": null,
   "id": "6e23e1c7",
   "metadata": {},
   "outputs": [],
   "source": [
    "#spotify_client.get_artist('3TVXtAsR1Inumwj472S9r4')"
   ]
  },
  {
   "cell_type": "code",
   "execution_count": null,
   "id": "1ea7fc1b",
   "metadata": {},
   "outputs": [],
   "source": [
    "#spotify_client.get_album(\"5MS3MvWHJ3lOZPLiMxzOU6\")"
   ]
  },
  {
   "cell_type": "code",
   "execution_count": null,
   "id": "257afae4",
   "metadata": {},
   "outputs": [],
   "source": [
    "spotify_client.search(query=\"Danger\", operator=\"NOT\", operator_query=\"Zone\", search_type=\"track\")"
   ]
  }
 ],
 "metadata": {
  "kernelspec": {
   "display_name": "Python 3 (ipykernel)",
   "language": "python",
   "name": "python3"
  },
  "language_info": {
   "codemirror_mode": {
    "name": "ipython",
    "version": 3
   },
   "file_extension": ".py",
   "mimetype": "text/x-python",
   "name": "python",
   "nbconvert_exporter": "python",
   "pygments_lexer": "ipython3",
   "version": "3.11.1"
  }
 },
 "nbformat": 4,
 "nbformat_minor": 5
}
