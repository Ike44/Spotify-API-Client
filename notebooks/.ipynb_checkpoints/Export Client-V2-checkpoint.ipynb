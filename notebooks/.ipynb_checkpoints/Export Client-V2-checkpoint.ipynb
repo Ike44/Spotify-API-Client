{
 "cells": [
  {
   "cell_type": "code",
   "execution_count": 5,
   "id": "4d056f7a",
   "metadata": {},
   "outputs": [
    {
     "name": "stderr",
     "output_type": "stream",
     "text": [
      "C:\\Users\\ikenx\\.virtualenvs\\Spotify_API-QJJJXr6y\\Lib\\site-packages\\traitlets\\traitlets.py:2548: FutureWarning: Supporting extra quotes around strings is deprecated in traitlets 5.0. You can use '../client' instead of \"'../client'\" if you require traitlets >=5.\n",
      "  warn(\n",
      "[NbConvertApp] Converting notebook Spotify_Client_V2.ipynb to python\n",
      "[NbConvertApp] Writing 11897 bytes to ..\\client\\Spotify_Client_V2.py\n"
     ]
    }
   ],
   "source": [
    "!jupyter nbconvert --output-dir='../client' --to python Spotify_Client_V2.ipynb"
   ]
  },
  {
   "cell_type": "code",
   "execution_count": 6,
   "id": "b4e9987b",
   "metadata": {},
   "outputs": [
    {
     "name": "stderr",
     "output_type": "stream",
     "text": [
      "C:\\Users\\ikenx\\.virtualenvs\\Spotify_API-QJJJXr6y\\Lib\\site-packages\\traitlets\\traitlets.py:2548: FutureWarning: Supporting extra quotes around strings is deprecated in traitlets 5.0. You can use '../notebooks' instead of \"'../notebooks'\" if you require traitlets >=5.\n",
      "  warn(\n",
      "[NbConvertApp] Converting notebook Spotify_Client_V2.ipynb to python\n",
      "[NbConvertApp] Writing 11897 bytes to ..\\notebooks\\Spotify_Client_V2.py\n"
     ]
    }
   ],
   "source": [
    "!jupyter nbconvert --output-dir='../notebooks' --to python Spotify_Client_V2.ipynb"
   ]
  }
 ],
 "metadata": {
  "kernelspec": {
   "display_name": "Python 3 (ipykernel)",
   "language": "python",
   "name": "python3"
  },
  "language_info": {
   "codemirror_mode": {
    "name": "ipython",
    "version": 3
   },
   "file_extension": ".py",
   "mimetype": "text/x-python",
   "name": "python",
   "nbconvert_exporter": "python",
   "pygments_lexer": "ipython3",
   "version": "3.11.1"
  }
 },
 "nbformat": 4,
 "nbformat_minor": 5
}
