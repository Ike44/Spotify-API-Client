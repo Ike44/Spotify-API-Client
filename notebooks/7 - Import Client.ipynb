{
 "cells": [
  {
   "cell_type": "code",
   "execution_count": null,
   "id": "cbaa4fe3",
   "metadata": {},
   "outputs": [],
   "source": [
    "from Spotify_Client import*\n",
    "import os\n",
    "from dotenv import load_dotenv"
   ]
  },
  {
   "cell_type": "code",
   "execution_count": null,
   "id": "600615de",
   "metadata": {},
   "outputs": [],
   "source": [
    "load_dotenv(\"./config.env\")\n",
    "client_secret = os.getenv(\"CLIENT_SECRET\")\n",
    "client_id = os.getenv(\"CLIENT_ID\")"
   ]
  },
  {
   "cell_type": "code",
   "execution_count": null,
   "id": "84bbb989",
   "metadata": {},
   "outputs": [],
   "source": [
    "spotify_client = SpotifyAPI(client_id,client_secret)"
   ]
  },
  {
   "cell_type": "code",
   "execution_count": null,
   "id": "3b5b8d1b",
   "metadata": {},
   "outputs": [],
   "source": [
    "spotify_client.search({\"track\": \"A lannister always pays his debts\", \"artists\": \"Ramin\"}, search_type=\"artist\")"
   ]
  }
 ],
 "metadata": {
  "kernelspec": {
   "display_name": "Python 3 (ipykernel)",
   "language": "python",
   "name": "python3"
  },
  "language_info": {
   "codemirror_mode": {
    "name": "ipython",
    "version": 3
   },
   "file_extension": ".py",
   "mimetype": "text/x-python",
   "name": "python",
   "nbconvert_exporter": "python",
   "pygments_lexer": "ipython3",
   "version": "3.11.1"
  }
 },
 "nbformat": 4,
 "nbformat_minor": 5
}
