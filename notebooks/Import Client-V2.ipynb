{
 "cells": [
  {
   "cell_type": "code",
   "execution_count": 11,
   "id": "cbaa4fe3",
   "metadata": {},
   "outputs": [],
   "source": [
    "from Spotify_Client_V2 import*\n",
    "import os\n",
    "from dotenv import load_dotenv"
   ]
  },
  {
   "cell_type": "code",
   "execution_count": 12,
   "id": "600615de",
   "metadata": {},
   "outputs": [],
   "source": [
    "load_dotenv(\"./config.env\")\n",
    "client_secret = os.getenv(\"CLIENT_SECRET\")\n",
    "client_id = os.getenv(\"CLIENT_ID\")"
   ]
  },
  {
   "cell_type": "code",
   "execution_count": 13,
   "id": "84bbb989",
   "metadata": {},
   "outputs": [],
   "source": [
    "spotify_client = SpotifyAPI(client_id, client_secret)"
   ]
  },
  {
   "cell_type": "code",
   "execution_count": 14,
   "id": "ee43f328",
   "metadata": {},
   "outputs": [],
   "source": [
    "spotify_client.parse_url_for_code('http://localhost:3000/?code=AQAMKgYdJ5yArYf98yt4bVOCB3BI2Fn-WvPENGwlr6Fvdlag0_b0UljPAC21JnZP1G68okdmp8s4FMckmw2SVTuVpkYJDaE5_f15jUbd6YF1O0s3_xVnQYGl5WleX3y-K-aYaHhPWDoIEK9SFyRjQz71MOF0o1ToK2PL-jsgucVv84Fyl2efqy8BY6Jy0bVMOlNigDQzlWk_bsto8NcX9a4gLaMFtUGjScI-qQ3wZ9JRrLuT9FkL1rT5e4HH3BMF4_EyETAGMBEbY1XEK3_uXv1DJ_QczeC-UVgNbkIb_g')"
   ]
  },
  {
   "cell_type": "code",
   "execution_count": 15,
   "id": "3b5b8d1b",
   "metadata": {},
   "outputs": [
    {
     "name": "stdout",
     "output_type": "stream",
     "text": [
      "q=track%3AA+lannister+always+pays+his+debts+artists%3ARamin&type=artist\n"
     ]
    },
    {
     "data": {
      "text/plain": [
       "{'artists': {'href': 'https://api.spotify.com/v1/search?query=track%3AA+lannister+always+pays+his+debts+artists%3ARamin&type=artist&offset=0&limit=20',\n",
       "  'items': [],\n",
       "  'limit': 20,\n",
       "  'next': None,\n",
       "  'offset': 0,\n",
       "  'previous': None,\n",
       "  'total': 0}}"
      ]
     },
     "execution_count": 15,
     "metadata": {},
     "output_type": "execute_result"
    }
   ],
   "source": [
    "spotify_client.search({\"track\": \"A lannister always pays his debts\", \"artists\": \"Ramin\"}, search_type=\"artist\")"
   ]
  },
  {
   "cell_type": "code",
   "execution_count": 16,
   "id": "ca12c383",
   "metadata": {},
   "outputs": [
    {
     "name": "stdout",
     "output_type": "stream",
     "text": [
      "{'href': 'https://api.spotify.com/v1/users/null/playlists?offset=0&limit=50', 'items': [{'collaborative': False, 'description': '', 'external_urls': {'spotify': 'https://open.spotify.com/playlist/25bsRdQDyIlT0LT2CRyPc3'}, 'href': 'https://api.spotify.com/v1/playlists/25bsRdQDyIlT0LT2CRyPc3', 'id': '25bsRdQDyIlT0LT2CRyPc3', 'images': [{'height': 640, 'url': 'https://mosaic.scdn.co/640/ab67616d0000b27366905c088b1c8896399a9875ab67616d0000b2739e5f87ec4047381725ea8502ab67616d0000b273b5ebd91333e5d305dc7d15a4ab67616d0000b273fc6514f8f70d52e54ca3c13e', 'width': 640}, {'height': 300, 'url': 'https://mosaic.scdn.co/300/ab67616d0000b27366905c088b1c8896399a9875ab67616d0000b2739e5f87ec4047381725ea8502ab67616d0000b273b5ebd91333e5d305dc7d15a4ab67616d0000b273fc6514f8f70d52e54ca3c13e', 'width': 300}, {'height': 60, 'url': 'https://mosaic.scdn.co/60/ab67616d0000b27366905c088b1c8896399a9875ab67616d0000b2739e5f87ec4047381725ea8502ab67616d0000b273b5ebd91333e5d305dc7d15a4ab67616d0000b273fc6514f8f70d52e54ca3c13e', 'width': 60}], 'name': 'Violas kök', 'owner': {'display_name': 'null', 'external_urls': {'spotify': 'https://open.spotify.com/user/null'}, 'href': 'https://api.spotify.com/v1/users/null', 'id': 'null', 'type': 'user', 'uri': 'spotify:user:null'}, 'primary_color': None, 'public': True, 'snapshot_id': 'MTQsYWU4ZWIwZDZhNzUxNzI1ZDIxMWY1OGJiOTRiMjRhZmZhN2Q0MzQ2OQ==', 'tracks': {'href': 'https://api.spotify.com/v1/playlists/25bsRdQDyIlT0LT2CRyPc3/tracks', 'total': 11}, 'type': 'playlist', 'uri': 'spotify:playlist:25bsRdQDyIlT0LT2CRyPc3'}, {'collaborative': False, 'description': '', 'external_urls': {'spotify': 'https://open.spotify.com/playlist/5gfGqtxfvV4QC23LfExbBk'}, 'href': 'https://api.spotify.com/v1/playlists/5gfGqtxfvV4QC23LfExbBk', 'id': '5gfGqtxfvV4QC23LfExbBk', 'images': [{'height': 640, 'url': 'https://mosaic.scdn.co/640/ab67616d0000b273397164050097ff1625368970ab67616d0000b273a933ccb8e748208d21ca3f08ab67616d0000b273d7d21e3a8dfd81a489a35e29ab67616d0000b273de20cdc5935096897bb687fc', 'width': 640}, {'height': 300, 'url': 'https://mosaic.scdn.co/300/ab67616d0000b273397164050097ff1625368970ab67616d0000b273a933ccb8e748208d21ca3f08ab67616d0000b273d7d21e3a8dfd81a489a35e29ab67616d0000b273de20cdc5935096897bb687fc', 'width': 300}, {'height': 60, 'url': 'https://mosaic.scdn.co/60/ab67616d0000b273397164050097ff1625368970ab67616d0000b273a933ccb8e748208d21ca3f08ab67616d0000b273d7d21e3a8dfd81a489a35e29ab67616d0000b273de20cdc5935096897bb687fc', 'width': 60}], 'name': 'Ann-Katrin', 'owner': {'display_name': 'null', 'external_urls': {'spotify': 'https://open.spotify.com/user/null'}, 'href': 'https://api.spotify.com/v1/users/null', 'id': 'null', 'type': 'user', 'uri': 'spotify:user:null'}, 'primary_color': None, 'public': True, 'snapshot_id': 'MTI2LDE3N2ViZGM3OTI0MzUzMTA5ZDkyYWQzODU4OTQxZWQxMzdkNGM0MTk=', 'tracks': {'href': 'https://api.spotify.com/v1/playlists/5gfGqtxfvV4QC23LfExbBk/tracks', 'total': 113}, 'type': 'playlist', 'uri': 'spotify:playlist:5gfGqtxfvV4QC23LfExbBk'}, {'collaborative': False, 'description': '', 'external_urls': {'spotify': 'https://open.spotify.com/playlist/2Wqq5oDiNvWSQ8tTZto26e'}, 'href': 'https://api.spotify.com/v1/playlists/2Wqq5oDiNvWSQ8tTZto26e', 'id': '2Wqq5oDiNvWSQ8tTZto26e', 'images': [{'height': 640, 'url': 'https://mosaic.scdn.co/640/ab67616d0000b273617f78eb4389bb0a7d27719aab67616d0000b2738f82a5c1d701d71ba554e220ab67616d0000b273921a726111dcda01c318f03eab67616d0000b2739ef5f0d63ad90c3ddef7d3b1', 'width': 640}, {'height': 300, 'url': 'https://mosaic.scdn.co/300/ab67616d0000b273617f78eb4389bb0a7d27719aab67616d0000b2738f82a5c1d701d71ba554e220ab67616d0000b273921a726111dcda01c318f03eab67616d0000b2739ef5f0d63ad90c3ddef7d3b1', 'width': 300}, {'height': 60, 'url': 'https://mosaic.scdn.co/60/ab67616d0000b273617f78eb4389bb0a7d27719aab67616d0000b2738f82a5c1d701d71ba554e220ab67616d0000b273921a726111dcda01c318f03eab67616d0000b2739ef5f0d63ad90c3ddef7d3b1', 'width': 60}], 'name': 'dansa i kök', 'owner': {'display_name': 'null', 'external_urls': {'spotify': 'https://open.spotify.com/user/null'}, 'href': 'https://api.spotify.com/v1/users/null', 'id': 'null', 'type': 'user', 'uri': 'spotify:user:null'}, 'primary_color': None, 'public': True, 'snapshot_id': 'OTIsMzIyNGUzOTllOGY3ZWJmMmQxYjdiOGE0MjQ3YjJlZDY1ZjRlOTRmZA==', 'tracks': {'href': 'https://api.spotify.com/v1/playlists/2Wqq5oDiNvWSQ8tTZto26e/tracks', 'total': 41}, 'type': 'playlist', 'uri': 'spotify:playlist:2Wqq5oDiNvWSQ8tTZto26e'}], 'limit': 50, 'next': None, 'offset': 0, 'previous': None, 'total': 3}\n"
     ]
    }
   ],
   "source": [
    "r = spotify_client.get_user_playlists()\n",
    "print(r)"
   ]
  }
 ],
 "metadata": {
  "kernelspec": {
   "display_name": "Python 3 (ipykernel)",
   "language": "python",
   "name": "python3"
  },
  "language_info": {
   "codemirror_mode": {
    "name": "ipython",
    "version": 3
   },
   "file_extension": ".py",
   "mimetype": "text/x-python",
   "name": "python",
   "nbconvert_exporter": "python",
   "pygments_lexer": "ipython3",
   "version": "3.11.1"
  }
 },
 "nbformat": 4,
 "nbformat_minor": 5
}
