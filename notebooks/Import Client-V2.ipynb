{
 "cells": [
  {
   "cell_type": "code",
   "execution_count": 8,
   "id": "cbaa4fe3",
   "metadata": {},
   "outputs": [],
   "source": [
    "from Spotify_Client_V2 import* as sc\n",
    "import os\n",
    "from dotenv import load_dotenv"
   ]
  },
  {
   "cell_type": "code",
   "execution_count": 9,
   "id": "600615de",
   "metadata": {},
   "outputs": [],
   "source": [
    "load_dotenv(\"./config.env\")\n",
    "client_secret = os.getenv(\"CLIENT_SECRET\")\n",
    "client_id = os.getenv(\"CLIENT_ID\")"
   ]
  },
  {
   "cell_type": "code",
   "execution_count": 11,
   "id": "84bbb989",
   "metadata": {},
   "outputs": [],
   "source": [
    "spotify_client = sc.SpotifyAPI(client_id, client_secret)"
   ]
  },
  {
   "cell_type": "code",
   "execution_count": 12,
   "id": "ee43f328",
   "metadata": {},
   "outputs": [],
   "source": [
    "spotify_client.parse_url_for_code('http://localhost:3000/?code=AQAYHEPvl1ygK2M9pLIfr3Qy_U8r0qOJGuEPppNRE2p7qTKfXOvgG5p9EVxEIoHHTRZkgkPdsJa2ECFeXrRU9K2UQZ_qBPoKmiqmAj17JE690hEMOCw--QCbW7HS0EedlTpnff2yt6YdR0KKcwEYDTHpCOFf3KzWIn2odgdBXfVVW4ivqP--7WgS5B5capPDZs_qkNEwWMitcPJUnzfxjxyOqvODO63KVBiOPj4qlWxkDkM9VghzccVlh2KDqVvjFp1vQmSLCzpBKai36RWCZSmmQV9zGvHq50TlZHksCQ')"
   ]
  },
  {
   "cell_type": "code",
   "execution_count": 13,
   "id": "3b5b8d1b",
   "metadata": {},
   "outputs": [],
   "source": [
    "spotify_client.search({\"track\": \"A lannister always pays his debts\", \"artists\": \"Ramin\"}, search_type=\"artist\")"
   ]
  },
  {
   "cell_type": "code",
   "execution_count": 14,
   "id": "60ee026d",
   "metadata": {},
   "outputs": [],
   "source": [
    "r = spotify_client.get_user_playlists()\n",
    "print(r.json)"
   ]
  }
 ],
 "metadata": {
  "kernelspec": {
   "display_name": "Python 3 (ipykernel)",
   "language": "python",
   "name": "python3"
  },
  "language_info": {
   "codemirror_mode": {
    "name": "ipython",
    "version": 3
   },
   "file_extension": ".py",
   "mimetype": "text/x-python",
   "name": "python",
   "nbconvert_exporter": "python",
   "pygments_lexer": "ipython3",
   "version": "3.11.1"
  }
 },
 "nbformat": 4,
 "nbformat_minor": 5
}
